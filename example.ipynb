{
 "cells": [
  {
   "cell_type": "markdown",
   "metadata": {},
   "source": [
    "# Computing Allan variance and noise parameters from it"
   ]
  },
  {
   "cell_type": "code",
   "execution_count": 1,
   "metadata": {
    "ExecuteTime": {
     "end_time": "2016-11-22T13:44:56.858000",
     "start_time": "2016-11-22T13:44:56.505000"
    },
    "collapsed": true
   },
   "outputs": [],
   "source": [
    "%matplotlib inline"
   ]
  },
  {
   "cell_type": "code",
   "execution_count": 2,
   "metadata": {
    "ExecuteTime": {
     "end_time": "2016-11-22T13:44:56.862000",
     "start_time": "2016-11-22T13:44:56.859000"
    },
    "collapsed": true
   },
   "outputs": [],
   "source": [
    "import matplotlib.pyplot as plt"
   ]
  },
  {
   "cell_type": "code",
   "execution_count": 3,
   "metadata": {
    "ExecuteTime": {
     "end_time": "2016-11-22T13:44:56.969000",
     "start_time": "2016-11-22T13:44:56.865000"
    },
    "collapsed": true
   },
   "outputs": [],
   "source": [
    "import numpy as np"
   ]
  },
  {
   "cell_type": "code",
   "execution_count": 4,
   "metadata": {
    "ExecuteTime": {
     "end_time": "2016-11-22T13:44:57.174000",
     "start_time": "2016-11-22T13:44:56.970000"
    },
    "collapsed": true
   },
   "outputs": [],
   "source": [
    "from allan_variance import allan_variance, params_from_avar"
   ]
  },
  {
   "cell_type": "markdown",
   "metadata": {},
   "source": [
    "First generate a model signal containing additive white noise, random walk and deterministic ramp:"
   ]
  },
  {
   "cell_type": "code",
   "execution_count": 5,
   "metadata": {
    "ExecuteTime": {
     "end_time": "2016-11-22T13:44:57.183000",
     "start_time": "2016-11-22T13:44:57.176000"
    },
    "collapsed": false
   },
   "outputs": [],
   "source": [
    "def generate_signal(n, dt, q_white, q_walk, q_ramp, random_state=0):\n",
    "    rng = np.random.RandomState(random_state)\n",
    "    white = q_white * rng.randn(n) * dt ** 0.5\n",
    "    walk = q_walk * dt ** 0.5 * np.cumsum(rng.randn(n))    \n",
    "    ramp = q_ramp * dt * np.arange(n)\n",
    "    return white + walk * dt + ramp * dt"
   ]
  },
  {
   "cell_type": "code",
   "execution_count": 6,
   "metadata": {
    "ExecuteTime": {
     "end_time": "2016-11-22T13:44:57.273000",
     "start_time": "2016-11-22T13:44:57.187000"
    },
    "collapsed": true
   },
   "outputs": [],
   "source": [
    "dt = 1e-2"
   ]
  },
  {
   "cell_type": "code",
   "execution_count": 7,
   "metadata": {
    "ExecuteTime": {
     "end_time": "2016-11-22T13:44:57.487000",
     "start_time": "2016-11-22T13:44:57.275000"
    },
    "collapsed": false
   },
   "outputs": [],
   "source": [
    "x = generate_signal(1000000, dt, 0.1, 0.05, 0.002)"
   ]
  },
  {
   "cell_type": "markdown",
   "metadata": {},
   "source": [
    "Now compute AV curve using `allan_variance` function:"
   ]
  },
  {
   "cell_type": "code",
   "execution_count": 8,
   "metadata": {
    "ExecuteTime": {
     "end_time": "2016-11-22T13:44:58.466000",
     "start_time": "2016-11-22T13:44:57.489000"
    },
    "collapsed": false
   },
   "outputs": [],
   "source": [
    "tau, av = allan_variance(x, dt, input_mode=\"mean\")"
   ]
  },
  {
   "cell_type": "code",
   "execution_count": 9,
   "metadata": {
    "ExecuteTime": {
     "end_time": "2016-11-22T13:44:59.728000",
     "start_time": "2016-11-22T13:44:58.468000"
    },
    "collapsed": false
   },
   "outputs": [
    {
     "data": {
      "text/plain": [
       "[<matplotlib.lines.Line2D at 0x7868e10>]"
      ]
     },
     "execution_count": 9,
     "metadata": {},
     "output_type": "execute_result"
    },
    {
     "data": {
      "image/png": "[encoded data removed]",
      "text/plain": [
       "<matplotlib.figure.Figure at 0x785f748>"
      ]
     },
     "metadata": {},
     "output_type": "display_data"
    }
   ],
   "source": [
    "plt.loglog(tau, av, '.')"
   ]
  },
  {
   "cell_type": "markdown",
   "metadata": {},
   "source": [
    "We clearly see a part with a slope of -1 corresponding to the white noise. At large averaging times AV is dominated by the linear ramp (slope is +2). The random walk part is located between them."
   ]
  },
  {
   "cell_type": "markdown",
   "metadata": {},
   "source": [
    "We can automatically estimate the noise magnitudes using `params_from_avar` function:"
   ]
  },
  {
   "cell_type": "code",
   "execution_count": 10,
   "metadata": {
    "ExecuteTime": {
     "end_time": "2016-11-22T13:44:59.734000",
     "start_time": "2016-11-22T13:44:59.730000"
    },
    "collapsed": false
   },
   "outputs": [],
   "source": [
    "params, av_pred = params_from_avar(tau, av)"
   ]
  },
  {
   "cell_type": "code",
   "execution_count": 11,
   "metadata": {
    "ExecuteTime": {
     "end_time": "2016-11-22T13:44:59.817000",
     "start_time": "2016-11-22T13:44:59.736000"
    },
    "collapsed": false
   },
   "outputs": [
    {
     "data": {
      "text/plain": [
       "array([ 0.        ,  0.00798799,  0.08659797,  0.        ,  0.        ])"
      ]
     },
     "execution_count": 11,
     "metadata": {},
     "output_type": "execute_result"
    }
   ],
   "source": [
    "params"
   ]
  },
  {
   "cell_type": "markdown",
   "metadata": {},
   "source": [
    "The second value corresponds to the white noise and it's close to 0.1, the fourth value corresponds to the random walk and it's close to 0.05 and the last value corresponds to the linear ramp and it is close to 0.002. The two other parameters are insignificant. So we see that the procedure works quite well."
   ]
  },
  {
   "cell_type": "markdown",
   "metadata": {},
   "source": [
    "Finally we display the estimated AV curve along with computed actual values:"
   ]
  },
  {
   "cell_type": "code",
   "execution_count": 12,
   "metadata": {
    "ExecuteTime": {
     "end_time": "2016-11-22T13:45:00.974000",
     "start_time": "2016-11-22T13:44:59.820000"
    },
    "collapsed": false
   },
   "outputs": [
    {
     "data": {
      "text/plain": [
       "[<matplotlib.lines.Line2D at 0x7d11518>]"
      ]
     },
     "execution_count": 12,
     "metadata": {},
     "output_type": "execute_result"
    },
    {
     "data": {
      "image/png": "[encoded data removed]",
      "text/plain": [
       "<matplotlib.figure.Figure at 0x788ef28>"
      ]
     },
     "metadata": {},
     "output_type": "display_data"
    }
   ],
   "source": [
    "plt.loglog(tau, av, '.')\n",
    "plt.loglog(tau, av_pred)"
   ]
  },
  {
   "cell_type": "code",
   "execution_count": null,
   "metadata": {
    "collapsed": true
   },
   "outputs": [],
   "source": []
  }
 ],
 "metadata": {
  "kernelspec": {
   "display_name": "Python 2",
   "language": "python",
   "name": "python2"
  },
  "language_info": {
   "codemirror_mode": {
    "name": "ipython",
    "version": 2
   },
   "file_extension": ".py",
   "mimetype": "text/x-python",
   "name": "python",
   "nbconvert_exporter": "python",
   "pygments_lexer": "ipython2",
   "version": "2.7.12"
  },
  "toc": {
   "nav_menu": {
    "height": "47px",
    "width": "252px"
   },
   "navigate_menu": true,
   "number_sections": true,
   "sideBar": true,
   "threshold": 4,
   "toc_cell": false,
   "toc_section_display": "block",
   "toc_window_display": false
  }
 },
 "nbformat": 4,
 "nbformat_minor": 0
}
