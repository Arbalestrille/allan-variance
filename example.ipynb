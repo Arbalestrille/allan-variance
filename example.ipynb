{
 "cells": [
  {
   "cell_type": "markdown",
   "metadata": {},
   "source": [
    "# Computing Allan variance and noise parameters from it"
   ]
  },
  {
   "cell_type": "code",
   "execution_count": 1,
   "metadata": {
    "ExecuteTime": {
     "end_time": "2016-11-24T08:45:36.321000",
     "start_time": "2016-11-24T08:45:35.956000"
    },
    "collapsed": true
   },
   "outputs": [],
   "source": [
    "%matplotlib inline"
   ]
  },
  {
   "cell_type": "code",
   "execution_count": 2,
   "metadata": {
    "ExecuteTime": {
     "end_time": "2016-11-24T08:45:36.327000",
     "start_time": "2016-11-24T08:45:36.323000"
    },
    "collapsed": true
   },
   "outputs": [],
   "source": [
    "import matplotlib.pyplot as plt"
   ]
  },
  {
   "cell_type": "code",
   "execution_count": 3,
   "metadata": {
    "ExecuteTime": {
     "end_time": "2016-11-24T08:45:36.398000",
     "start_time": "2016-11-24T08:45:36.329000"
    },
    "collapsed": true
   },
   "outputs": [],
   "source": [
    "import numpy as np"
   ]
  },
  {
   "cell_type": "code",
   "execution_count": 4,
   "metadata": {
    "ExecuteTime": {
     "end_time": "2016-11-24T08:45:36.585000",
     "start_time": "2016-11-24T08:45:36.400000"
    },
    "collapsed": true
   },
   "outputs": [],
   "source": [
    "from allan_variance import allan_variance, params_from_avar"
   ]
  },
  {
   "cell_type": "markdown",
   "metadata": {},
   "source": [
    "First generate a model signal containing additive white noise, random walk and deterministic ramp:"
   ]
  },
  {
   "cell_type": "code",
   "execution_count": 5,
   "metadata": {
    "ExecuteTime": {
     "end_time": "2016-11-24T08:45:36.596000",
     "start_time": "2016-11-24T08:45:36.588000"
    },
    "collapsed": false
   },
   "outputs": [],
   "source": [
    "def generate_signal(n, dt, q_white, q_walk, q_ramp, random_state=0):\n",
    "    rng = np.random.RandomState(random_state)\n",
    "    white = q_white * rng.randn(n) * dt ** 0.5\n",
    "    walk = q_walk * dt ** 0.5 * np.cumsum(rng.randn(n))    \n",
    "    ramp = q_ramp * dt * np.arange(n)\n",
    "    return white + walk * dt + ramp * dt"
   ]
  },
  {
   "cell_type": "code",
   "execution_count": 6,
   "metadata": {
    "ExecuteTime": {
     "end_time": "2016-11-24T08:45:36.666000",
     "start_time": "2016-11-24T08:45:36.599000"
    },
    "collapsed": true
   },
   "outputs": [],
   "source": [
    "dt = 1e-2"
   ]
  },
  {
   "cell_type": "code",
   "execution_count": 7,
   "metadata": {
    "ExecuteTime": {
     "end_time": "2016-11-24T08:45:36.897000",
     "start_time": "2016-11-24T08:45:36.668000"
    },
    "collapsed": false
   },
   "outputs": [],
   "source": [
    "x = generate_signal(1000000, dt, 0.1, 0.05, 0.002)"
   ]
  },
  {
   "cell_type": "markdown",
   "metadata": {},
   "source": [
    "Now compute AV curve using `allan_variance` function:"
   ]
  },
  {
   "cell_type": "code",
   "execution_count": 8,
   "metadata": {
    "ExecuteTime": {
     "end_time": "2016-11-24T08:45:38.676000",
     "start_time": "2016-11-24T08:45:36.900000"
    },
    "collapsed": false
   },
   "outputs": [],
   "source": [
    "tau, av = allan_variance(x, dt)"
   ]
  },
  {
   "cell_type": "code",
   "execution_count": 9,
   "metadata": {
    "ExecuteTime": {
     "end_time": "2016-11-24T08:45:39.993000",
     "start_time": "2016-11-24T08:45:38.678000"
    },
    "collapsed": false
   },
   "outputs": [
    {
     "data": {
      "text/plain": [
       "[<matplotlib.lines.Line2D at 0x78d0cc0>]"
      ]
     },
     "execution_count": 9,
     "metadata": {},
     "output_type": "execute_result"
    },
    {
     "data": {
      "image/png": "[encoded data removed]",
      "text/plain": [
       "<matplotlib.figure.Figure at 0x78c75c0>"
      ]
     },
     "metadata": {},
     "output_type": "display_data"
    }
   ],
   "source": [
    "plt.loglog(tau, av, '.')"
   ]
  },
  {
   "cell_type": "markdown",
   "metadata": {},
   "source": [
    "We clearly see a part with a slope of -1 corresponding to the white noise. At large averaging times AV is dominated by the linear ramp (slope is +2). The random walk part is located between them."
   ]
  },
  {
   "cell_type": "markdown",
   "metadata": {},
   "source": [
    "We can automatically estimate the noise magnitudes using `params_from_avar` function:"
   ]
  },
  {
   "cell_type": "code",
   "execution_count": 10,
   "metadata": {
    "ExecuteTime": {
     "end_time": "2016-11-24T08:45:39.998000",
     "start_time": "2016-11-24T08:45:39.995000"
    },
    "collapsed": false
   },
   "outputs": [],
   "source": [
    "params, av_pred = params_from_avar(tau, av)"
   ]
  },
  {
   "cell_type": "code",
   "execution_count": 11,
   "metadata": {
    "ExecuteTime": {
     "end_time": "2016-11-24T08:45:40.072000",
     "start_time": "2016-11-24T08:45:40"
    },
    "collapsed": false
   },
   "outputs": [
    {
     "data": {
      "text/plain": [
       "array([ 0.00096651,  0.09939135,  0.        ,  0.05182486,  0.0018948 ])"
      ]
     },
     "execution_count": 11,
     "metadata": {},
     "output_type": "execute_result"
    }
   ],
   "source": [
    "params"
   ]
  },
  {
   "cell_type": "markdown",
   "metadata": {},
   "source": [
    "The second value corresponds to the white noise and it's close to 0.1, the fourth value corresponds to the random walk and it's close to 0.05 and the last value corresponds to the linear ramp and it is close to 0.002. The two other parameters are insignificant. So we see that the procedure works quite well."
   ]
  },
  {
   "cell_type": "markdown",
   "metadata": {},
   "source": [
    "Finally we display the estimated AV curve along with computed actual values:"
   ]
  },
  {
   "cell_type": "code",
   "execution_count": 12,
   "metadata": {
    "ExecuteTime": {
     "end_time": "2016-11-24T08:45:41.314000",
     "start_time": "2016-11-24T08:45:40.074000"
    },
    "collapsed": false
   },
   "outputs": [
    {
     "data": {
      "text/plain": [
       "[<matplotlib.lines.Line2D at 0x7a77fd0>]"
      ]
     },
     "execution_count": 12,
     "metadata": {},
     "output_type": "execute_result"
    },
    {
     "data": {
      "image/png": "[encoded data removed]",
      "text/plain": [
       "<matplotlib.figure.Figure at 0x7a77b00>"
      ]
     },
     "metadata": {},
     "output_type": "display_data"
    }
   ],
   "source": [
    "plt.loglog(tau, av, '.')\n",
    "plt.loglog(tau, av_pred)"
   ]
  }
 ],
 "metadata": {
  "kernelspec": {
   "display_name": "Python 2",
   "language": "python",
   "name": "python2"
  },
  "language_info": {
   "codemirror_mode": {
    "name": "ipython",
    "version": 2
   },
   "file_extension": ".py",
   "mimetype": "text/x-python",
   "name": "python",
   "nbconvert_exporter": "python",
   "pygments_lexer": "ipython2",
   "version": "2.7.12"
  },
  "toc": {
   "nav_menu": {
    "height": "47px",
    "width": "252px"
   },
   "navigate_menu": true,
   "number_sections": true,
   "sideBar": true,
   "threshold": 4,
   "toc_cell": false,
   "toc_section_display": "block",
   "toc_window_display": false
  }
 },
 "nbformat": 4,
 "nbformat_minor": 0
}
